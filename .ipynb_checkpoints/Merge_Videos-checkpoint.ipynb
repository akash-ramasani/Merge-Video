{
 "cells": [
  {
   "cell_type": "code",
   "execution_count": 4,
   "id": "37c61293-daf1-42d5-a94f-417e60160926",
   "metadata": {},
   "outputs": [
    {
     "name": "stdout",
     "output_type": "stream",
     "text": [
      "Moviepy - Building video C:\\Users\\Home\\Desktop\\Vij\\Nani_Final.mp4.\n",
      "MoviePy - Writing audio in Nani_FinalTEMP_MPY_wvf_snd.mp3\n"
     ]
    },
    {
     "name": "stderr",
     "output_type": "stream",
     "text": [
      "                                                                                                                                                                                                                  \r"
     ]
    },
    {
     "name": "stdout",
     "output_type": "stream",
     "text": [
      "MoviePy - Done.\n",
      "Moviepy - Writing video C:\\Users\\Home\\Desktop\\Vij\\Nani_Final.mp4\n",
      "\n"
     ]
    },
    {
     "name": "stderr",
     "output_type": "stream",
     "text": [
      "                                                                                                                                                                                                                  \r"
     ]
    },
    {
     "name": "stdout",
     "output_type": "stream",
     "text": [
      "Moviepy - Done !\n",
      "Moviepy - video ready C:\\Users\\Home\\Desktop\\Vij\\Nani_Final.mp4\n",
      "Videos merged successfully! Output saved as: C:\\Users\\Home\\Desktop\\Vij\\Nani_Final.mp4\n"
     ]
    }
   ],
   "source": [
    "from moviepy.editor import VideoFileClip, concatenate_videoclips\n",
    "\n",
    "# Specify the paths to your video files\n",
    "video1_path = \"C:\\\\Users\\\\Home\\\\Desktop\\\\Vij\\\\Videos\\\\Initial Videos\\\\Nani.mp4\"\n",
    "video2_path = \"C:\\\\Users\\\\Home\\\\Desktop\\\\Vij\\\\Videos\\\\End.mp4\"\n",
    "\n",
    "# Load the video clips\n",
    "clip1 = VideoFileClip(video1_path)\n",
    "clip2 = VideoFileClip(video2_path)\n",
    "\n",
    "# Concatenate the clips\n",
    "final_clip = concatenate_videoclips([clip1, clip2])\n",
    "\n",
    "# Save the merged video\n",
    "output_path = \"C:\\\\Users\\\\Home\\\\Desktop\\\\Vij\\\\Nani_Final.mp4\"\n",
    "final_clip.write_videofile(output_path)\n",
    "\n",
    "# Print success message\n",
    "print(\"Videos merged successfully! Output saved as:\", output_path) "
   ]
  }
 ],
 "metadata": {
  "kernelspec": {
   "display_name": "Python 3 (ipykernel)",
   "language": "python",
   "name": "python3"
  },
  "language_info": {
   "codemirror_mode": {
    "name": "ipython",
    "version": 3
   },
   "file_extension": ".py",
   "mimetype": "text/x-python",
   "name": "python",
   "nbconvert_exporter": "python",
   "pygments_lexer": "ipython3",
   "version": "3.11.5"
  }
 },
 "nbformat": 4,
 "nbformat_minor": 5
}
